{
 "cells": [
  {
   "cell_type": "code",
   "execution_count": 1,
   "id": "20991e0f",
   "metadata": {},
   "outputs": [
    {
     "name": "stdout",
     "output_type": "stream",
     "text": [
      "Microsoft Windows [Version 10.0.19044.1766]\r\n",
      "(c) Microsoft Corporation. All rights reserved.\r\n",
      "\r\n",
      "C:\\Users\\82102\\deep_learning\\CH01>\n",
      "C:\\Users\\82102\\deep_learning\\CH01># Windows\n",
      "\r\n",
      "C:\\Users\\82102\\deep_learning\\CH01>\n",
      "C:\\Users\\82102\\deep_learning\\CH01>python --version  // 3.9.7踰꾩쟾\n",
      "Python 3.9.7\r\n",
      "\r\n",
      "C:\\Users\\82102\\deep_learning\\CH01>\n",
      "C:\\Users\\82102\\deep_learning\\CH01>"
     ]
    },
    {
     "name": "stderr",
     "output_type": "stream",
     "text": [
      "'#'은(는) 내부 또는 외부 명령, 실행할 수 있는 프로그램, 또는\r\n",
      "배치 파일이 아닙니다.\r\n"
     ]
    }
   ],
   "source": [
    "%%cmd\n",
    "\n",
    "# Windows\n",
    "\n",
    "python --version  // 3.9.7버전\n",
    "\n"
   ]
  },
  {
   "cell_type": "code",
   "execution_count": 2,
   "id": "6e700a98",
   "metadata": {},
   "outputs": [
    {
     "name": "stdout",
     "output_type": "stream",
     "text": [
      "Microsoft Windows [Version 10.0.19044.1766]\r\n",
      "(c) Microsoft Corporation. All rights reserved.\r\n",
      "\r\n",
      "C:\\Users\\82102\\deep_learning\\CH01>\n",
      "C:\\Users\\82102\\deep_learning\\CH01>python\n",
      "\r\n",
      "C:\\Users\\82102\\deep_learning\\CH01>"
     ]
    }
   ],
   "source": [
    "%%cmd\n",
    "\n",
    "python\n"
   ]
  },
  {
   "cell_type": "markdown",
   "id": "11202fd0",
   "metadata": {},
   "source": [
    "## 1.3.1 산술 연산"
   ]
  },
  {
   "cell_type": "code",
   "execution_count": 3,
   "id": "c45cb1b6",
   "metadata": {},
   "outputs": [
    {
     "data": {
      "text/plain": [
       "-1"
      ]
     },
     "execution_count": 3,
     "metadata": {},
     "output_type": "execute_result"
    }
   ],
   "source": [
    "1 - 2 "
   ]
  },
  {
   "cell_type": "code",
   "execution_count": 4,
   "id": "efbe2ab1",
   "metadata": {},
   "outputs": [
    {
     "data": {
      "text/plain": [
       "20"
      ]
     },
     "execution_count": 4,
     "metadata": {},
     "output_type": "execute_result"
    }
   ],
   "source": [
    "4 * 5\n"
   ]
  },
  {
   "cell_type": "code",
   "execution_count": 5,
   "id": "3c26c068",
   "metadata": {},
   "outputs": [
    {
     "data": {
      "text/plain": [
       "1.4"
      ]
     },
     "execution_count": 5,
     "metadata": {},
     "output_type": "execute_result"
    }
   ],
   "source": [
    "7 / 5"
   ]
  },
  {
   "cell_type": "code",
   "execution_count": 6,
   "id": "9106353a",
   "metadata": {},
   "outputs": [
    {
     "data": {
      "text/plain": [
       "9"
      ]
     },
     "execution_count": 6,
     "metadata": {},
     "output_type": "execute_result"
    }
   ],
   "source": [
    "3 ** 2"
   ]
  },
  {
   "cell_type": "markdown",
   "id": "36ad5a1c",
   "metadata": {},
   "source": [
    "## 1.3.2 자료형"
   ]
  },
  {
   "cell_type": "code",
   "execution_count": 7,
   "id": "793a1453",
   "metadata": {},
   "outputs": [
    {
     "data": {
      "text/plain": [
       "int"
      ]
     },
     "execution_count": 7,
     "metadata": {},
     "output_type": "execute_result"
    }
   ],
   "source": [
    "type(10) ##정수형"
   ]
  },
  {
   "cell_type": "code",
   "execution_count": 8,
   "id": "ab57c98a",
   "metadata": {},
   "outputs": [
    {
     "data": {
      "text/plain": [
       "type"
      ]
     },
     "execution_count": 8,
     "metadata": {},
     "output_type": "execute_result"
    }
   ],
   "source": [
    "type(float)  ##  실수"
   ]
  },
  {
   "cell_type": "code",
   "execution_count": 9,
   "id": "eef87b10",
   "metadata": {},
   "outputs": [
    {
     "data": {
      "text/plain": [
       "str"
      ]
     },
     "execution_count": 9,
     "metadata": {},
     "output_type": "execute_result"
    }
   ],
   "source": [
    "type(\"hello\")  ##string"
   ]
  },
  {
   "cell_type": "markdown",
   "id": "e64a9a7a",
   "metadata": {},
   "source": [
    "## 1.3.3 변수"
   ]
  },
  {
   "cell_type": "code",
   "execution_count": 10,
   "id": "4d3b53bf",
   "metadata": {},
   "outputs": [
    {
     "name": "stdout",
     "output_type": "stream",
     "text": [
      "10\n",
      "100\n"
     ]
    },
    {
     "data": {
      "text/plain": [
       "1.0"
      ]
     },
     "execution_count": 10,
     "metadata": {},
     "output_type": "execute_result"
    }
   ],
   "source": [
    "x = 10 # 초기화\n",
    "print(x)\n",
    "\n",
    "x = 100 \n",
    "print(x)\n",
    "\n",
    "y = 3.14\n",
    "\n",
    "x * y  /314\n"
   ]
  },
  {
   "cell_type": "code",
   "execution_count": 11,
   "id": "72bf8f3e",
   "metadata": {},
   "outputs": [
    {
     "data": {
      "text/plain": [
       "float"
      ]
     },
     "execution_count": 11,
     "metadata": {},
     "output_type": "execute_result"
    }
   ],
   "source": [
    "type(x*y)  ## float * int = float형"
   ]
  },
  {
   "cell_type": "markdown",
   "id": "bac154b7",
   "metadata": {},
   "source": [
    "## 1.3.4 리스트"
   ]
  },
  {
   "cell_type": "code",
   "execution_count": 12,
   "id": "af209d69",
   "metadata": {},
   "outputs": [
    {
     "name": "stdout",
     "output_type": "stream",
     "text": [
      "[1, 2, 3, 4, 5]\n",
      "[1, 2, 3, 4, 99]\n"
     ]
    }
   ],
   "source": [
    "a = [1, 2, 3, 4, 5]\n",
    "print(a)\n",
    "\n",
    "len(a)\n",
    "a[0]\n",
    "a[4]\n",
    "a[4] = 99 \n",
    "print(a)"
   ]
  },
  {
   "cell_type": "code",
   "execution_count": 13,
   "id": "44a69006",
   "metadata": {},
   "outputs": [
    {
     "name": "stdout",
     "output_type": "stream",
     "text": [
      "[2, 3, 4, 99]\n",
      "[1, 2, 3]\n",
      "[1, 2, 3, 4]\n",
      "[1, 2, 3]\n"
     ]
    }
   ],
   "source": [
    "a[1:] ##인덱스 1부터 끝가지 얻기\n",
    "print(a[1:])\n",
    "\n",
    "print(a[:3]) ##처음부터 인덱스 3까지 얻기\n",
    "\n",
    "print(a[:-1]) ## 처음부터 마지막 원소의 1개 앞까지 얻기\n",
    "print(a[:-2]) ##처음부터 마지막 원소의 2개 앞까지 얻기"
   ]
  },
  {
   "cell_type": "markdown",
   "id": "47ed78a6",
   "metadata": {},
   "source": [
    "## 1.3.5 딕셔너리\n",
    "\n",
    "리스트는 index번호 순으로 값을 저장하지만, 딕셔너리는 key와 value를 한 쌍으로 저장한다."
   ]
  },
  {
   "cell_type": "code",
   "execution_count": 14,
   "id": "b4b3444c",
   "metadata": {},
   "outputs": [
    {
     "data": {
      "text/plain": [
       "180"
      ]
     },
     "execution_count": 14,
     "metadata": {},
     "output_type": "execute_result"
    }
   ],
   "source": [
    "me = {'height':180} #딕셔너리 생성. 딕셔너리 생성은 {} 기호를 사용한다.\n",
    "\n",
    "me['height'] ##원소에 접근"
   ]
  },
  {
   "cell_type": "code",
   "execution_count": 15,
   "id": "8793f8bc",
   "metadata": {},
   "outputs": [
    {
     "name": "stdout",
     "output_type": "stream",
     "text": [
      "{'height': 180, 'weight': 70}\n"
     ]
    }
   ],
   "source": [
    "me['weight'] = 70 # 새 원소 추가\n",
    "print(me)"
   ]
  },
  {
   "cell_type": "markdown",
   "id": "fede1dfd",
   "metadata": {},
   "source": [
    "## 1.3.6 bool\n",
    "\n",
    "True & False. not,and,or 연산자를 사용할 수 있다."
   ]
  },
  {
   "cell_type": "code",
   "execution_count": 16,
   "id": "b1198094",
   "metadata": {},
   "outputs": [
    {
     "data": {
      "text/plain": [
       "bool"
      ]
     },
     "execution_count": 16,
     "metadata": {},
     "output_type": "execute_result"
    }
   ],
   "source": [
    "hungry = True\n",
    "sleepy = False\n",
    "\n",
    "type(hungry)"
   ]
  },
  {
   "cell_type": "code",
   "execution_count": 17,
   "id": "18525c9d",
   "metadata": {},
   "outputs": [
    {
     "data": {
      "text/plain": [
       "False"
      ]
     },
     "execution_count": 17,
     "metadata": {},
     "output_type": "execute_result"
    }
   ],
   "source": [
    "not hungry"
   ]
  },
  {
   "cell_type": "code",
   "execution_count": 18,
   "id": "ac2eaf44",
   "metadata": {},
   "outputs": [
    {
     "data": {
      "text/plain": [
       "False"
      ]
     },
     "execution_count": 18,
     "metadata": {},
     "output_type": "execute_result"
    }
   ],
   "source": [
    "hungry and sleepy"
   ]
  },
  {
   "cell_type": "code",
   "execution_count": 19,
   "id": "155768b5",
   "metadata": {},
   "outputs": [
    {
     "data": {
      "text/plain": [
       "True"
      ]
     },
     "execution_count": 19,
     "metadata": {},
     "output_type": "execute_result"
    }
   ],
   "source": [
    "hungry or sleepy"
   ]
  },
  {
   "cell_type": "markdown",
   "id": "129173e0",
   "metadata": {},
   "source": [
    "## 1.3.7 if문\n"
   ]
  },
  {
   "cell_type": "code",
   "execution_count": 20,
   "id": "8b93e167",
   "metadata": {},
   "outputs": [
    {
     "name": "stdout",
     "output_type": "stream",
     "text": [
      "I'm hungry\n"
     ]
    }
   ],
   "source": [
    "hungry = True\n",
    "if hungry:\n",
    "    print(\"I'm hungry\")\n",
    "    \n",
    "    "
   ]
  },
  {
   "cell_type": "code",
   "execution_count": 21,
   "id": "0a709968",
   "metadata": {},
   "outputs": [
    {
     "name": "stdout",
     "output_type": "stream",
     "text": [
      "I'm not hungry\n",
      "I'm sleepy\n"
     ]
    }
   ],
   "source": [
    "hungry = False\n",
    "if hungry:\n",
    "    print(\"I'm hungry\") ##들여쓰기는 tab보다는 공백문자 4개로 표현하는 것을 권장.\n",
    "else:\n",
    "    print(\"I'm not hungry\")\n",
    "    print(\"I'm sleepy\")"
   ]
  },
  {
   "cell_type": "markdown",
   "id": "55f9bbf0",
   "metadata": {},
   "source": [
    "## 1.3.8 for 문\n",
    "반복 처리시 for 문"
   ]
  },
  {
   "cell_type": "code",
   "execution_count": 22,
   "id": "b9adf1e8",
   "metadata": {},
   "outputs": [
    {
     "name": "stdout",
     "output_type": "stream",
     "text": [
      "1\n",
      "2\n",
      "3\n"
     ]
    }
   ],
   "source": [
    "for i in[1,2,3]:\n",
    "    print(i)"
   ]
  },
  {
   "cell_type": "markdown",
   "id": "f34389be",
   "metadata": {},
   "source": [
    "## 1.3.9 함수\n",
    " 특정 기능을 수행하는 일련의 명령들을 묶어 함수로 정의."
   ]
  },
  {
   "cell_type": "code",
   "execution_count": 23,
   "id": "5d4fc823",
   "metadata": {},
   "outputs": [],
   "source": [
    "def hello():\n",
    "    print(\"Hello world!\")"
   ]
  },
  {
   "cell_type": "code",
   "execution_count": 24,
   "id": "70371769",
   "metadata": {},
   "outputs": [
    {
     "name": "stdout",
     "output_type": "stream",
     "text": [
      "Hello world!\n"
     ]
    }
   ],
   "source": [
    "hello()"
   ]
  },
  {
   "cell_type": "code",
   "execution_count": 25,
   "id": "536803bc",
   "metadata": {},
   "outputs": [],
   "source": [
    "def hello(object):  \n",
    "    print(\"Hello \" + object + \"!\")"
   ]
  },
  {
   "cell_type": "code",
   "execution_count": 26,
   "id": "68e0df50",
   "metadata": {},
   "outputs": [
    {
     "name": "stdout",
     "output_type": "stream",
     "text": [
      "Hello world!\n"
     ]
    }
   ],
   "source": [
    "hello(\"world\")  ## 인수를 취할 수 있음"
   ]
  },
  {
   "cell_type": "markdown",
   "id": "f1a9c163",
   "metadata": {},
   "source": [
    "# 1.4 파이썬 스크립트 파일\n",
    "\n",
    " ## 1.4.1 파일로 저장하기\n",
    "  \n"
   ]
  },
  {
   "cell_type": "code",
   "execution_count": 27,
   "id": "4206edf2",
   "metadata": {},
   "outputs": [
    {
     "name": "stdout",
     "output_type": "stream",
     "text": [
      "[WinError 3] 지정된 경로를 찾을 수 없습니다: 'C:\\\\Users\\\\82102/deep-learning/1장'\n",
      "C:\\Users\\82102\\deep_learning\\CH01\n"
     ]
    }
   ],
   "source": [
    "cd ~/deep-learning/1장\n"
   ]
  },
  {
   "cell_type": "code",
   "execution_count": null,
   "id": "c2d4fee5",
   "metadata": {},
   "outputs": [],
   "source": []
  },
  {
   "cell_type": "code",
   "execution_count": null,
   "id": "c26b59c2",
   "metadata": {},
   "outputs": [],
   "source": []
  }
 ],
 "metadata": {
  "kernelspec": {
   "display_name": "Python 3 (ipykernel)",
   "language": "python",
   "name": "python3"
  },
  "language_info": {
   "codemirror_mode": {
    "name": "ipython",
    "version": 3
   },
   "file_extension": ".py",
   "mimetype": "text/x-python",
   "name": "python",
   "nbconvert_exporter": "python",
   "pygments_lexer": "ipython3",
   "version": "3.9.7"
  }
 },
 "nbformat": 4,
 "nbformat_minor": 5
}
